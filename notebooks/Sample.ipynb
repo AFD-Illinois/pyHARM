{
 "cells": [
  {
   "cell_type": "code",
   "execution_count": 1,
   "metadata": {},
   "outputs": [],
   "source": [
    "# This notebook is intended to demonstrate basic use of pyHARM.  It is a work in progress, additions or issues welcome\n",
    "# Note this requires pyHARM to be installed, unless you move it to the root of this repository\n",
    "import numpy as np\n",
    "import matplotlib.pyplot as plt\n",
    "\n",
    "import pyHARM\n",
    "import pyHARM.ana.plot as pplt\n",
    "\n",
    "# Suppress math warnings. These are just for /0 or sqrt(-)\n",
    "import sys\n",
    "import warnings\n",
    "if not sys.warnoptions:\n",
    "    warnings.simplefilter(\"ignore\")"
   ]
  },
  {
   "cell_type": "code",
   "execution_count": 2,
   "metadata": {},
   "outputs": [],
   "source": [
    "# pyHARM returns IharmDump objects by default, which include not only HARM's primitive variables,\n",
    "# but the covariant and contravariant 4-vectors of velocity (ucon, ucov) and magnetic field (bcon, bcov)\n",
    "# (see Gammie '03 for definition of the latter)\n",
    "# It also includes the instantaneous 4-current jcon at the time of the dump, if available.\n",
    "# Disable adding the 4-vectors with add_derived=False\n",
    "# Disable adding the 4-current jcon with add_jcon=False\n",
    "# You can additionally add conserved variables and zone failures (if these are present in the file) with add_cons, add_fail\n",
    "# MAD file\n",
    "#dump = pyHARM.load_dump(\"/data/bh-bd3/eht/GRMHD/MAD/a+0.94/384x192x192_IHARM/dumps/dump_00002000.h5\")\n",
    "# SANE file\n",
    "#dump = pyHARM.load_dump(\"/data/bh-bd3/eht/GRMHD/SANE/a+0.94/288x128x128_IHARM/dumps/dump_00002000.h5\")"
   ]
  },
  {
   "cell_type": "code",
   "execution_count": 4,
   "metadata": {},
   "outputs": [],
   "source": [
    "#dump = pyHARM.load_dump(\"/mnt/data2/bprather/dumps/MAD/a+0.94/288x128x128_IHARM/dumps/dump_00002000.h5\")\n",
    "dump = pyHARM.load_dump(\"/mnt/data2/bprather/dumps/SANE/a+0.94/288x128x128_IHARM/dumps/dump_00002000.h5\")"
   ]
  },
  {
   "cell_type": "code",
   "execution_count": null,
   "metadata": {},
   "outputs": [],
   "source": [
    "# See all the variables you can request like this in pyHARM/ana/variables.py\n",
    "# Example of calculating dimensionless magnetization\n",
    "# Note you can pass just the name of a variable directly,\n",
    "# or retrieve the variable, do some operations, and pass the resulting ndarray\n",
    "0.5 * pyHARM.shell_sum(dump, np.fabs(dump['B1']), at_zone=5) / np.sqrt(-pyHARM.shell_sum(dump, 'FM', at_zone=5))"
   ]
  },
  {
   "cell_type": "code",
   "execution_count": null,
   "metadata": {},
   "outputs": [],
   "source": [
    "# Check the accretion rate by radius, summed only in the disk and over the full sphere\n",
    "# Note that in most cases you woulnd't probably use 'pretty' for a variable you know.\n",
    "# It's mostly useful when plotting a lot of different variables with the same code\n",
    "plt.plot(dump['r'][:,0,0], -pyHARM.shell_sum(dump, 'FM', th_slice=(5*np.pi/12, 7*np.pi/12)), label=\"Disk\")\n",
    "plt.plot(dump['r'][:,0,0], -pyHARM.shell_sum(dump, 'FM'), label=\"All\")\n",
    "plt.xlim(0,50)\n",
    "plt.ylim(0,30)\n",
    "plt.xlabel(pyHARM.pretty('r'))\n",
    "plt.ylabel(pyHARM.pretty('Mdot'))\n",
    "plt.title(r\"Shell-summed inward mass flux by radius\")\n",
    "plt.legend()\n",
    "plt.show()"
   ]
  },
  {
   "cell_type": "code",
   "execution_count": null,
   "metadata": {},
   "outputs": [],
   "source": [
    "# Shell-average azimuthal velocity as a function of r is more stable\n",
    "# Note this is just for a particular dump, too\n",
    "plt.plot(dump['r'][:,0,0], pyHARM.shell_av(dump, 'u^phi'))\n",
    "plt.xlim(0,400)\n",
    "plt.yscale('log')\n",
    "plt.xlabel(pyHARM.pretty('r'))\n",
    "plt.ylabel(pyHARM.pretty('u^phi'))\n",
    "plt.title(r\"Shell-average u^{\\phi}\")\n",
    "plt.show()"
   ]
  },
  {
   "cell_type": "code",
   "execution_count": null,
   "metadata": {},
   "outputs": [],
   "source": [
    "# Is pi/3-2pi/3 really representative of the disk?  Let's check how much of the accretion\n",
    "# falls in that range\n",
    "fig, ax = plt.subplots(1,1)\n",
    "pplt.plot_xz(ax, dump, np.log10(-dump['FM']), window=[-5,5,-5,5])\n",
    "pplt.overlay_contours(ax, dump, 'th', [np.pi/3, 2*np.pi/3])\n",
    "plt.show()"
   ]
  },
  {
   "cell_type": "code",
   "execution_count": null,
   "metadata": {},
   "outputs": [],
   "source": [
    "d_var, d_var_bins = dump[\"pdf_log_rho\"]\n",
    "plt.plot(d_var_bins, d_var)"
   ]
  },
  {
   "cell_type": "code",
   "execution_count": null,
   "metadata": {},
   "outputs": [],
   "source": [
    "# TODO there's lots of other neat, simple examples..."
   ]
  }
 ],
 "metadata": {
  "kernelspec": {
   "display_name": "Python [conda env:pyHARM]",
   "language": "python",
   "name": "conda-env-pyHARM-py"
  },
  "language_info": {
   "codemirror_mode": {
    "name": "ipython",
    "version": 3
   },
   "file_extension": ".py",
   "mimetype": "text/x-python",
   "name": "python",
   "nbconvert_exporter": "python",
   "pygments_lexer": "ipython3",
   "version": "3.7.6"
  }
 },
 "nbformat": 4,
 "nbformat_minor": 4
}
