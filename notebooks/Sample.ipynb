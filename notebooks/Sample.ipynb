{
 "cells": [
  {
   "cell_type": "code",
   "execution_count": null,
   "metadata": {},
   "outputs": [],
   "source": [
    "from pyHARM.ana.iharm_dump import IharmDump\n",
    "from pyHARM.ana.reductions import *\n",
    "from pyHARM.ana.variables import pretty\n",
    "\n",
    "import matplotlib.pyplot as plt"
   ]
  },
  {
   "cell_type": "code",
   "execution_count": null,
   "metadata": {},
   "outputs": [],
   "source": [
    "# The IharmDump objects constructs the geometry and 4-vectors by default.\n",
    "# Disable adding the 4-vectors with add_derived=False\n",
    "# Disable adding the 4-current jcon with add_jcon=False\n",
    "# Add conserved variables and zone failures with add_cons, add_fail\n",
    "dump = IharmDump(\"/data/bh-bd3/eht/GRMHD/MAD/a+0.94/384x192x192_IHARM/dumps/dump_00002000.h5\")"
   ]
  },
  {
   "cell_type": "code",
   "execution_count": null,
   "metadata": {},
   "outputs": [],
   "source": [
    "# See all the variables you can request like this in pyHARM/ana/variables.py\n",
    "# Example of calculating dimensionless magnetization\n",
    "# Note you can pass just the name of a variable directly,\n",
    "# or retrieve the variable, do some operations, and pass the resulting ndarray\n",
    "0.5 * shell_sum(dump, np.fabs(dump['B1']), at_zone=5) / np.sqrt(-shell_sum(dump, 'FM', at_zone=5))"
   ]
  },
  {
   "cell_type": "code",
   "execution_count": null,
   "metadata": {},
   "outputs": [],
   "source": [
    "# Dimensionless magnetization as a function of r\n",
    "plt.plot(dump['r'][:,0,0], 0.5 * shell_sum(dump, np.fabs(dump['B1'])) / np.sqrt(-shell_sum(dump, 'FM')))\n",
    "plt.xlim(0,50)\n",
    "plt.ylim(0,50)\n",
    "plt.xlabel(pretty('r'))\n",
    "plt.ylabel(pretty('phi_b'))\n",
    "plt.title(\"Spherically summed radial field by radius\")\n"
   ]
  },
  {
   "cell_type": "code",
   "execution_count": null,
   "metadata": {},
   "outputs": [],
   "source": [
    "# Shell-average radial velocity as a function of r is more stable\n",
    "# Note this is just for a particular dump, too\n",
    "plt.plot(dump['r'][:,0,0], shell_av(dump, 'u^phi'))\n",
    "plt.xlim(0,400)\n",
    "plt.yscale('log')\n",
    "plt.xlabel(pretty('r'))\n",
    "plt.ylabel(pretty('u^phi'))\n",
    "plt.title(\"Average \")"
   ]
  },
  {
   "cell_type": "code",
   "execution_count": null,
   "metadata": {},
   "outputs": [],
   "source": []
  }
 ],
 "metadata": {
  "kernelspec": {
   "display_name": "Python 3",
   "language": "python",
   "name": "python3"
  },
  "language_info": {
   "codemirror_mode": {
    "name": "ipython",
    "version": 3
   },
   "file_extension": ".py",
   "mimetype": "text/x-python",
   "name": "python",
   "nbconvert_exporter": "python",
   "pygments_lexer": "ipython3",
   "version": "3.7.3"
  }
 },
 "nbformat": 4,
 "nbformat_minor": 4
}
